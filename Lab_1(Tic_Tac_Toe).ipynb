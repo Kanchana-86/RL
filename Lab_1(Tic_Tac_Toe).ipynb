{
 "cells": [
  {
   "cell_type": "code",
   "execution_count": 1,
   "id": "f2292f63-cb45-42e0-86fb-55aaa7b5ab9e",
   "metadata": {
    "id": "f2292f63-cb45-42e0-86fb-55aaa7b5ab9e"
   },
   "outputs": [
    {
     "name": "stderr",
     "output_type": "stream",
     "text": [
      "C:\\Users\\kanch\\anaconda3\\Lib\\site-packages\\pandas\\core\\arrays\\masked.py:61: UserWarning: Pandas requires version '1.3.6' or newer of 'bottleneck' (version '1.3.5' currently installed).\n",
      "  from pandas.core import (\n"
     ]
    }
   ],
   "source": [
    "import numpy as np\n",
    "import pandas as pd\n",
    "import random\n",
    "import os"
   ]
  },
  {
   "cell_type": "markdown",
   "id": "d3c8b5be-4c07-4a26-8db4-5394a55c33d8",
   "metadata": {
    "id": "d3c8b5be-4c07-4a26-8db4-5394a55c33d8"
   },
   "source": [
    "**Step 1: - Helpers**"
   ]
  },
  {
   "cell_type": "code",
   "execution_count": 2,
   "id": "eba9c55f-1aad-4584-86dd-e4fbfaae4700",
   "metadata": {
    "id": "eba9c55f-1aad-4584-86dd-e4fbfaae4700"
   },
   "outputs": [],
   "source": [
    "def check_winner(b):\n",
    "    for i in range(3):\n",
    "        if abs(b[i].sum()) == 3: return int(np.sign(b[i].sum()))   # row\n",
    "        if abs(b[:,i].sum()) == 3: return int(np.sign(b[:,i].sum())) # col\n",
    "    if abs(np.trace(b)) == 3: return int(np.sign(np.trace(b)))\n",
    "    if abs(np.trace(np.fliplr(b))) == 3: return int(np.sign(np.trace(np.fliplr(b))))\n",
    "    if not (b==0).any(): return 0  # draw\n",
    "    return None\n",
    "\n",
    "def moves(b): return [(i,j) for i in range(3) for j in range(3) if b[i,j]==0]\n",
    "def b2s(b): return ''.join(map(str,b.flatten()))"
   ]
  },
  {
   "cell_type": "markdown",
   "id": "ac0de792-59f4-451d-8f5d-76fc75cc82cf",
   "metadata": {
    "id": "ac0de792-59f4-451d-8f5d-76fc75cc82cf"
   },
   "source": [
    "**Step 2 : - Simulate random games  save**"
   ]
  },
  {
   "cell_type": "code",
   "execution_count": 3,
   "id": "f36577ed-3b6d-479a-9037-2154297db1b8",
   "metadata": {
    "id": "f36577ed-3b6d-479a-9037-2154297db1b8"
   },
   "outputs": [],
   "source": [
    "def build_probability_table(filename=\"tic_tac_toe_prob.csv\", games=20000):\n",
    "    prob = {}\n",
    "    Xw = Ow = D = 0\n",
    "\n",
    "    for _ in range(games):\n",
    "        b = np.zeros((3,3),int); turn = 1; hist=[]\n",
    "        while True:\n",
    "            m=random.choice(moves(b)); b[m]=turn\n",
    "            hist.append((b2s(b.copy()),turn))\n",
    "            w=check_winner(b)\n",
    "            if w is not None:\n",
    "                if w==1: Xw+=1\n",
    "                elif w==-1: Ow+=1\n",
    "                else: D+=1\n",
    "                for s,_ in hist:\n",
    "                    prob.setdefault(s,{\"X\":0,\"O\":0,\"D\":0})\n",
    "                    if w==1: prob[s][\"X\"]+=1\n",
    "                    elif w==-1: prob[s][\"O\"]+=1\n",
    "                    else: prob[s][\"D\"]+=1\n",
    "                break\n",
    "            turn*=-1\n",
    "\n",
    "    print(f\"Results ({games} games): X={Xw}, O={Ow}, Draws={D}\")\n",
    "    df = pd.DataFrame.from_dict(prob,orient=\"index\")\n",
    "    df.to_csv(filename)\n",
    "    print(f\"Probability table saved to {filename}\")"
   ]
  },
  {
   "cell_type": "markdown",
   "id": "5abfd780-a99f-433c-baed-131fdc25edf1",
   "metadata": {
    "id": "5abfd780-a99f-433c-baed-131fdc25edf1"
   },
   "source": [
    "**Step 3 : - Load probability table**"
   ]
  },
  {
   "cell_type": "code",
   "execution_count": 4,
   "id": "9d40af79-d4e1-48f6-9ebf-aa44637af7c5",
   "metadata": {
    "id": "9d40af79-d4e1-48f6-9ebf-aa44637af7c5"
   },
   "outputs": [],
   "source": [
    "def load_probability_table(filename=\"tic_tac_toe_prob.csv\"):\n",
    "    df = pd.read_csv(filename, index_col=0)\n",
    "    prob = df.to_dict(orient=\"index\")\n",
    "    return prob"
   ]
  },
  {
   "cell_type": "markdown",
   "id": "2b3e632b-22ee-4d5e-9f23-5b37781f1b25",
   "metadata": {
    "id": "2b3e632b-22ee-4d5e-9f23-5b37781f1b25"
   },
   "source": [
    "**Step 4 : - Agent**"
   ]
  },
  {
   "cell_type": "code",
   "execution_count": 5,
   "id": "25379fb3-4b4f-4d27-bb44-ac5b25106919",
   "metadata": {
    "id": "25379fb3-4b4f-4d27-bb44-ac5b25106919"
   },
   "outputs": [],
   "source": [
    "def agent(b,player,prob):\n",
    "    best=None; score=-1e9 if player==1 else 1e9\n",
    "    for m in moves(b):\n",
    "        nb=b.copy(); nb[m]=player; k=b2s(nb)\n",
    "        if k not in prob: continue\n",
    "        st=prob[k]; tot=st[\"X\"]+st[\"O\"]+st[\"D\"]\n",
    "        if not tot: continue\n",
    "        xp,op=st[\"X\"]/tot,st[\"O\"]/tot\n",
    "        val=(xp-op) if player==1 else (op-xp)\n",
    "        if (player==1 and val>score) or (player==-1 and val<score):\n",
    "            best,score=m,val\n",
    "    return best or random.choice(moves(b))"
   ]
  },
  {
   "cell_type": "markdown",
   "id": "7a88ae45-8d36-4d57-a7e4-d19823a64ee5",
   "metadata": {
    "id": "7a88ae45-8d36-4d57-a7e4-d19823a64ee5"
   },
   "source": [
    "**Step 5 : - Demo Game**"
   ]
  },
  {
   "cell_type": "code",
   "execution_count": 6,
   "id": "ddbdae66-c169-43bf-be43-4d9d77158417",
   "metadata": {
    "id": "ddbdae66-c169-43bf-be43-4d9d77158417"
   },
   "outputs": [],
   "source": [
    "def demo_game(prob):\n",
    "    b=np.zeros((3,3),int); turn=1\n",
    "    print(\"\\nDemo Game:\")\n",
    "    while True:\n",
    "        m=agent(b,turn,prob); b[m]=turn; print(b,\"\\n\")\n",
    "        w=check_winner(b)\n",
    "        if w is not None:\n",
    "            print(\"X Wins!\" if w==1 else \"O Wins!\" if w==-1 else \"Draw!\")\n",
    "            break\n",
    "        turn*=-1"
   ]
  },
  {
   "cell_type": "markdown",
   "id": "nvjWKaZ6wj-U",
   "metadata": {
    "id": "nvjWKaZ6wj-U"
   },
   "source": [
    "**Step 6 : - Run**"
   ]
  },
  {
   "cell_type": "code",
   "execution_count": 7,
   "id": "8e7iCuAdwg8x",
   "metadata": {
    "colab": {
     "base_uri": "https://localhost:8080/",
     "height": 211
    },
    "id": "8e7iCuAdwg8x",
    "outputId": "7dddf8e9-ade8-4e45-9010-27b28db073f2"
   },
   "outputs": [
    {
     "name": "stdout",
     "output_type": "stream",
     "text": [
      "\n",
      "Demo Game:\n",
      "[[0 0 0]\n",
      " [0 1 0]\n",
      " [0 0 0]] \n",
      "\n",
      "[[ 0  0  0]\n",
      " [ 0  1  0]\n",
      " [ 0 -1  0]] \n",
      "\n",
      "[[ 0  0  0]\n",
      " [ 0  1  0]\n",
      " [ 1 -1  0]] \n",
      "\n",
      "[[ 0 -1  0]\n",
      " [ 0  1  0]\n",
      " [ 1 -1  0]] \n",
      "\n",
      "[[ 1 -1  0]\n",
      " [ 0  1  0]\n",
      " [ 1 -1  0]] \n",
      "\n",
      "[[ 1 -1 -1]\n",
      " [ 0  1  0]\n",
      " [ 1 -1  0]] \n",
      "\n",
      "[[ 1 -1 -1]\n",
      " [ 1  1  0]\n",
      " [ 1 -1  0]] \n",
      "\n",
      "X Wins!\n"
     ]
    }
   ],
   "source": [
    "if __name__==\"__main__\":\n",
    "    filename=\"tic_tac_toe_prob.csv\"\n",
    "\n",
    "    # If file does not exist, build it\n",
    "    if not os.path.exists(filename):\n",
    "        build_probability_table(filename,games=20000)\n",
    "\n",
    "    # Load prob table and play demo\n",
    "    prob = load_probability_table(filename)\n",
    "    demo_game(prob)"
   ]
  }
 ],
 "metadata": {
  "colab": {
   "provenance": []
  },
  "kernelspec": {
   "display_name": "Python 3 (ipykernel)",
   "language": "python",
   "name": "python3"
  },
  "language_info": {
   "codemirror_mode": {
    "name": "ipython",
    "version": 3
   },
   "file_extension": ".py",
   "mimetype": "text/x-python",
   "name": "python",
   "nbconvert_exporter": "python",
   "pygments_lexer": "ipython3",
   "version": "3.11.5"
  }
 },
 "nbformat": 4,
 "nbformat_minor": 5
}
